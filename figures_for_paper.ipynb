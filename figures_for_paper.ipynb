{
 "cells": [
  {
   "cell_type": "code",
   "execution_count": 1,
   "metadata": {},
   "outputs": [],
   "source": [
    "%load_ext autoreload\n",
    "%autoreload 2"
   ]
  },
  {
   "cell_type": "code",
   "execution_count": 1,
   "metadata": {},
   "outputs": [],
   "source": [
    "import mrcfile\n",
    "import torch\n",
    "\n",
    "from analysis_code.io import load_methods_results\n",
    "from analysis_code.svd_analysis import (\n",
    "    compute_distance_matrix,\n",
    "    compute_common_embedding\n",
    ")"
   ]
  },
  {
   "cell_type": "code",
   "execution_count": 2,
   "metadata": {},
   "outputs": [],
   "source": [
    "path_to_3dva_1 = \"/mnt/home/mastore/ceph/cryosparc_folder/CS-trpv1-refinement-nanodisc-masking/J1216/mode1/\"\n",
    "path_to_3dva_2 = \"/mnt/home/mastore/ceph/cryosparc_folder/CS-trpv1-refinement-nanodisc-masking/J1216/mode2/\"\n",
    "\n",
    "path_to_md_1 = \"/mnt/home/mastore/ceph/unbiased_trpv1_second_round/double_toxin_bound/clustering/pc_analysis/backbone_volume_making/mult_1.5/mode1/\"\n",
    "path_to_md_2 = \"/mnt/home/mastore/ceph/unbiased_trpv1_second_round/double_toxin_bound/clustering/pc_analysis/backbone_volume_making/mult_1.5/mode2/\"\n",
    "\n",
    "path_to_3dflex_mode_1 =\"/mnt/home/mastore/ceph/cryosparc_folder/CS-trpv1-refinement-nanodisc-masking/J1168/mode1/\"\n",
    "path_to_3dflex_mode_2 =\"/mnt/home/mastore/ceph/cryosparc_folder/CS-trpv1-refinement-nanodisc-masking/J1168/mode2/\"\n",
    "\n",
    "path_to_cdrgn=\"/mnt/home/mastore/ceph/cryosparc_folder/CS-trpv1-refinement-nanodisc-masking/J310/cryodrgn/fifth_training/train/50_vol_traversal/pc1/\"\n",
    "path_to_manifoldem=\"/mnt/home/mastore/ceph/cryosparc_folder/CS-trpv1-refinement-nanodisc-masking/J1066/output/pub_attempt_2_aperture_4/manifoldem_volumes/\"\n",
    "\n",
    "path_dictionary = {\n",
    "    '3dva_mode1': path_to_3dva_1,\n",
    "    '3dva_mode2': path_to_3dva_2,\n",
    "    'md_mode1': path_to_md_1,\n",
    "    'md_mode2': path_to_md_2,\n",
    "    '3dflex_mode1': path_to_3dflex_mode_1,\n",
    "    '3dflex_mode2': path_to_3dflex_mode_2,\n",
    "    'cryodrgn': path_to_cdrgn,\n",
    "    'manifoldem': path_to_manifoldem,\n",
    "}\n",
    "\n",
    "mask = mrcfile.open('/mnt/ceph/users/mastore/cryosparc_folder/CS-trpv1-refinement-nanodisc-masking/J310/protein_mask_for_het_comparsion_gaussian.mrc').data.flatten()[None, ...]\n",
    "\n",
    "mask = torch.tensor(mask)"
   ]
  },
  {
   "cell_type": "code",
   "execution_count": null,
   "metadata": {},
   "outputs": [],
   "source": [
    "methods_data = load_methods_results(path_to_methods=path_dictionary, mask=mask)"
   ]
  },
  {
   "cell_type": "code",
   "execution_count": null,
   "metadata": {},
   "outputs": [],
   "source": [
    "distance_matrix, dist_mtx_labels = compute_distance_matrix(methods_data)\n",
    "common_embedding_results = compute_common_embedding(methods_data)"
   ]
  }
 ],
 "metadata": {
  "kernelspec": {
   "display_name": "challenge-env",
   "language": "python",
   "name": "python3"
  },
  "language_info": {
   "codemirror_mode": {
    "name": "ipython",
    "version": 3
   },
   "file_extension": ".py",
   "mimetype": "text/x-python",
   "name": "python",
   "nbconvert_exporter": "python",
   "pygments_lexer": "ipython3",
   "version": "3.10.14"
  }
 },
 "nbformat": 4,
 "nbformat_minor": 2
}
